{
 "cells": [
  {
   "cell_type": "code",
   "execution_count": 22,
   "id": "0e4cda0e",
   "metadata": {
    "collapsed": true
   },
   "outputs": [
    {
     "name": "stdout",
     "output_type": "stream",
     "text": [
      "Collecting pyautogui\n",
      "  Downloading PyAutoGUI-0.9.53.tar.gz (59 kB)\n",
      "     ---------------------------------------- 59.0/59.0 kB 3.0 MB/s eta 0:00:00\n",
      "  Preparing metadata (setup.py): started\n",
      "  Preparing metadata (setup.py): finished with status 'done'\n",
      "Collecting pymsgbox\n",
      "  Downloading PyMsgBox-1.0.9.tar.gz (18 kB)\n",
      "  Installing build dependencies: started\n",
      "  Installing build dependencies: finished with status 'done'\n",
      "  Getting requirements to build wheel: started\n",
      "  Getting requirements to build wheel: finished with status 'done'\n",
      "  Preparing metadata (pyproject.toml): started\n",
      "  Preparing metadata (pyproject.toml): finished with status 'done'\n",
      "Collecting PyTweening>=1.0.1\n",
      "  Downloading pytweening-1.0.4.tar.gz (14 kB)\n",
      "  Preparing metadata (setup.py): started\n",
      "  Preparing metadata (setup.py): finished with status 'done'\n",
      "Collecting pyscreeze>=0.1.21\n",
      "  Downloading PyScreeze-0.1.28.tar.gz (25 kB)\n",
      "  Installing build dependencies: started\n",
      "  Installing build dependencies: finished with status 'done'\n",
      "  Getting requirements to build wheel: started\n",
      "  Getting requirements to build wheel: finished with status 'done'\n",
      "  Preparing metadata (pyproject.toml): started\n",
      "  Preparing metadata (pyproject.toml): finished with status 'done'\n",
      "Collecting pygetwindow>=0.0.5\n",
      "  Downloading PyGetWindow-0.0.9.tar.gz (9.7 kB)\n",
      "  Preparing metadata (setup.py): started\n",
      "  Preparing metadata (setup.py): finished with status 'done'\n",
      "Collecting mouseinfo\n",
      "  Downloading MouseInfo-0.1.3.tar.gz (10 kB)\n",
      "  Preparing metadata (setup.py): started\n",
      "  Preparing metadata (setup.py): finished with status 'done'\n",
      "Collecting pyrect\n",
      "  Downloading PyRect-0.2.0.tar.gz (17 kB)\n",
      "  Preparing metadata (setup.py): started\n",
      "  Preparing metadata (setup.py): finished with status 'done'\n",
      "Collecting pyperclip\n",
      "  Downloading pyperclip-1.8.2.tar.gz (20 kB)\n",
      "  Preparing metadata (setup.py): started\n",
      "  Preparing metadata (setup.py): finished with status 'done'\n",
      "Building wheels for collected packages: pyautogui, pygetwindow, pyscreeze, PyTweening, mouseinfo, pymsgbox, pyperclip, pyrect\n",
      "  Building wheel for pyautogui (setup.py): started\n",
      "  Building wheel for pyautogui (setup.py): finished with status 'done'\n",
      "  Created wheel for pyautogui: filename=PyAutoGUI-0.9.53-py3-none-any.whl size=36601 sha256=54bcf5a34138b68883e9a196ecd420c7872271e5e826bf79297360f002afcbb9\n",
      "  Stored in directory: c:\\users\\ffn30\\appdata\\local\\pip\\cache\\wheels\\d8\\97\\e4\\d2edca92a87d3b5fbfb527264750a17b4ba297b9a7cab6e67f\n",
      "  Building wheel for pygetwindow (setup.py): started\n",
      "  Building wheel for pygetwindow (setup.py): finished with status 'done'\n",
      "  Created wheel for pygetwindow: filename=PyGetWindow-0.0.9-py3-none-any.whl size=11063 sha256=0b4c41cbead733938775a38ad9b57335c20dabca19a8ad5dc624b415e6e10197\n",
      "  Stored in directory: c:\\users\\ffn30\\appdata\\local\\pip\\cache\\wheels\\44\\ab\\20\\423c3a444793767e4e41f8377bc902f77bee212e68dcce85a5\n",
      "  Building wheel for pyscreeze (pyproject.toml): started\n",
      "  Building wheel for pyscreeze (pyproject.toml): finished with status 'done'\n",
      "  Created wheel for pyscreeze: filename=PyScreeze-0.1.28-py3-none-any.whl size=13027 sha256=b6ec077c6291029e5fda7327ebd65d9ab6dae38790b8f3e9e8581b75ff5e8bd4\n",
      "  Stored in directory: c:\\users\\ffn30\\appdata\\local\\pip\\cache\\wheels\\a2\\5b\\86\\99f1d8fac5d92de0ccb3f0d4ad15e3f4278baf75a9b0f20b93\n",
      "  Building wheel for PyTweening (setup.py): started\n",
      "  Building wheel for PyTweening (setup.py): finished with status 'done'\n",
      "  Created wheel for PyTweening: filename=pytweening-1.0.4-py3-none-any.whl size=5838 sha256=47358275c8e0a5df79460e68ac6e2f63de9d977d0d64138827b918a757b65cea\n",
      "  Stored in directory: c:\\users\\ffn30\\appdata\\local\\pip\\cache\\wheels\\a4\\5d\\d2\\ba4c8f82163233ffaadcf383c1e34d7d92635d357d13e7b78d\n",
      "  Building wheel for mouseinfo (setup.py): started\n",
      "  Building wheel for mouseinfo (setup.py): finished with status 'done'\n",
      "  Created wheel for mouseinfo: filename=MouseInfo-0.1.3-py3-none-any.whl size=10891 sha256=77bc076d096df1ad2fe4901d62b4fceff266031d8e5ec64134e40b5825dca618\n",
      "  Stored in directory: c:\\users\\ffn30\\appdata\\local\\pip\\cache\\wheels\\61\\73\\b9\\6fb1131ab36e650206e3aa0ad7a68907b41b32ac2d4f75f543\n",
      "  Building wheel for pymsgbox (pyproject.toml): started\n",
      "  Building wheel for pymsgbox (pyproject.toml): finished with status 'done'\n",
      "  Created wheel for pymsgbox: filename=PyMsgBox-1.0.9-py3-none-any.whl size=7416 sha256=39fb72e3499845e0c0db1f13881329c6932bed8c749642aa9b497eaa8ba1af71\n",
      "  Stored in directory: c:\\users\\ffn30\\appdata\\local\\pip\\cache\\wheels\\7f\\13\\8c\\584c519464297d9637f9cd29fd1dcdf55e2a2cab225c76a2db\n",
      "  Building wheel for pyperclip (setup.py): started\n",
      "  Building wheel for pyperclip (setup.py): finished with status 'done'\n",
      "  Created wheel for pyperclip: filename=pyperclip-1.8.2-py3-none-any.whl size=11123 sha256=ea7aae189e1aeb5a3f66717821fdc36aee19c4ab1b9d52881bdbd062aed1e7be\n",
      "  Stored in directory: c:\\users\\ffn30\\appdata\\local\\pip\\cache\\wheels\\0c\\09\\9e\\49e21a6840ef7955b06d47394afef0058f0378c0914e48b8b8\n",
      "  Building wheel for pyrect (setup.py): started\n",
      "  Building wheel for pyrect (setup.py): finished with status 'done'\n",
      "  Created wheel for pyrect: filename=PyRect-0.2.0-py2.py3-none-any.whl size=11179 sha256=62ca54f8634b385f52d13c91eeeccebba8df0081e0895f677df9d097b7c8275c\n",
      "  Stored in directory: c:\\users\\ffn30\\appdata\\local\\pip\\cache\\wheels\\25\\80\\fa\\27bb4a1c2e21f64ec71390489d52e57b7cc8afbe79bd595c5e\n",
      "Successfully built pyautogui pygetwindow pyscreeze PyTweening mouseinfo pymsgbox pyperclip pyrect\n",
      "Installing collected packages: PyTweening, pyscreeze, pyrect, pyperclip, pymsgbox, pygetwindow, mouseinfo, pyautogui\n",
      "Successfully installed PyTweening-1.0.4 mouseinfo-0.1.3 pyautogui-0.9.53 pygetwindow-0.0.9 pymsgbox-1.0.9 pyperclip-1.8.2 pyrect-0.2.0 pyscreeze-0.1.28\n"
     ]
    }
   ],
   "source": [
    "!pip install pyautogui\n",
    "\n"
   ]
  },
  {
   "cell_type": "code",
   "execution_count": 4,
   "id": "fe161daa",
   "metadata": {
    "collapsed": true
   },
   "outputs": [
    {
     "ename": "ModuleNotFoundError",
     "evalue": "No module named 'pyautogui'",
     "output_type": "error",
     "traceback": [
      "\u001b[1;31m---------------------------------------------------------------------------\u001b[0m",
      "\u001b[1;31mModuleNotFoundError\u001b[0m                       Traceback (most recent call last)",
      "\u001b[1;32m~\\AppData\\Local\\Temp\\ipykernel_17100\\3868471714.py\u001b[0m in \u001b[0;36m<module>\u001b[1;34m\u001b[0m\n\u001b[0;32m      1\u001b[0m \u001b[1;32mimport\u001b[0m \u001b[0mpandas\u001b[0m \u001b[1;32mas\u001b[0m \u001b[0mpd\u001b[0m\u001b[1;33m\u001b[0m\u001b[1;33m\u001b[0m\u001b[0m\n\u001b[1;32m----> 2\u001b[1;33m \u001b[1;32mimport\u001b[0m \u001b[0mpyautogui\u001b[0m \u001b[1;32mas\u001b[0m \u001b[0mpg\u001b[0m\u001b[1;33m\u001b[0m\u001b[1;33m\u001b[0m\u001b[0m\n\u001b[0m\u001b[0;32m      3\u001b[0m \u001b[1;32mimport\u001b[0m \u001b[0mpyperclip\u001b[0m \u001b[1;32mas\u001b[0m \u001b[0mpc\u001b[0m\u001b[1;33m\u001b[0m\u001b[1;33m\u001b[0m\u001b[0m\n\u001b[0;32m      4\u001b[0m \u001b[1;32mfrom\u001b[0m \u001b[0mtime\u001b[0m \u001b[1;32mimport\u001b[0m \u001b[0msleep\u001b[0m\u001b[1;33m\u001b[0m\u001b[1;33m\u001b[0m\u001b[0m\n\u001b[0;32m      5\u001b[0m \u001b[0msleep\u001b[0m\u001b[1;33m(\u001b[0m\u001b[1;36m10\u001b[0m\u001b[1;33m)\u001b[0m\u001b[1;33m\u001b[0m\u001b[1;33m\u001b[0m\u001b[0m\n",
      "\u001b[1;31mModuleNotFoundError\u001b[0m: No module named 'pyautogui'"
     ]
    }
   ],
   "source": [
    "import pandas as pd  \n",
    "import pyautogui as pg\n",
    "import pyperclip as pc\n",
    "from time import sleep"
   ]
  },
  {
   "cell_type": "code",
   "execution_count": 59,
   "id": "24f98954",
   "metadata": {},
   "outputs": [],
   "source": [
    "pg.press(['win','tab','tab','tab','tab','tab','tab','tab','tab'])"
   ]
  },
  {
   "cell_type": "code",
   "execution_count": 60,
   "id": "edbdf3c4",
   "metadata": {},
   "outputs": [],
   "source": [
    "#criar função escrever\n",
    "def escrever(texto):\n",
    "    pc.copy(texto)\n",
    "    pg.hotkey('ctrl','v')\n",
    "    \n",
    "# Ler arquivo \n",
    "df = pd.read_excel('nomes-emails.xlsx')  \n",
    "\n",
    "# Criar listas a partir das colunas\n",
    "nomes = df['nomes'].tolist() \n",
    "emails = df['emails'].tolist() \n",
    "assuntos = df['assunto'].tolist() \n",
    "\n",
    "#Abrir um navegador\n",
    "pg.press('win')\n",
    "escrever('edge')\n",
    "sleep(0.5)\n",
    "pg.press('enter')\n",
    "sleep(1)\n",
    "escrever(\"https://outlook.live.com/mail/0/\")\n",
    "pg.press('enter')\n",
    "sleep(2)\n",
    "\n",
    "i = 0\n",
    "\n",
    "sleep(3)\n",
    "while i != len(nomes):\n",
    "    \n",
    "    i_n = nomes[i]\n",
    "    i_e = emails[i]\n",
    "    i_a = assuntos[i]\n",
    "\n",
    "    #textos\n",
    "    texto_assunto = f\"Assunto referente a uma {i_a}\"\n",
    "    texto_demissao = f\"\"\"Bom dia {i_n} venho por meio desta, representando a empresa xablau, comunicar e passar o seu aviso prévio,infelizmente devido a alguns cortes de gastos da empresa, alguns funcionarios tem que deixar de trabalhar conosco, segue documento de recisão e tenha um bom dia\"\"\"\n",
    "    texto_promocao = f\"\"\"Bom dia {i_n} venho por meio desta, representando a empresa xablau, parabeniza-lo por um ótimo trabalho que vc tem feito aqui na empresa,temos orgulho de anunciar que vc é o funcionário do mês e irá receber uma promoção, segue documentos a serem assinados e tmj\"\"\"\n",
    "                                                                \n",
    "    pg.press('n')\n",
    "    sleep(2)\n",
    "    escrever(i_e)\n",
    "    pg.press('tab')\n",
    "    sleep(0.2)\n",
    "    escrever(texto_assunto)\n",
    "    pg.press('tab')\n",
    "    sleep(0.2)\n",
    "    if i_a == 'demissão':\n",
    "        escrever(texto_demissao)\n",
    "    elif i_a == 'promoção':\n",
    "        escrever(texto_promocao)\n",
    "    pg.click(x=1072, y=125)\n",
    "    \n",
    "    i += 1\n",
    "\n",
    "\n",
    "    \n"
   ]
  },
  {
   "cell_type": "code",
   "execution_count": 40,
   "id": "cf4519dc",
   "metadata": {},
   "outputs": [
    {
     "name": "stdout",
     "output_type": "stream",
     "text": [
      "João Gomes\n",
      "joao.gomes@projetinho.com\n",
      "demissão\n"
     ]
    }
   ],
   "source": [
    "#Exbir index atual\n",
    "print(i_n)\n",
    "print(i_e)\n",
    "print(i_a)"
   ]
  },
  {
   "cell_type": "code",
   "execution_count": 45,
   "id": "e121e7f7",
   "metadata": {},
   "outputs": [
    {
     "name": "stdout",
     "output_type": "stream",
     "text": [
      "['João Gomes', 'Alessandro Pereira', 'Roberto Marcio', 'Marcos Gody', 'roberto carlos']\n",
      "['joao.gomes@projetinho.com', 'alessandro.pereira@projetinho.com', 'roberto.marcio@projetinho.com', 'marcos.gody@projetinho.com', 'roberto.carlos@projetinho.com']\n",
      "['demissão', 'promoção', 'demissão', 'promoção', 'demissão']\n"
     ]
    }
   ],
   "source": [
    "# Exibir as listas\n",
    "print(nomes) \n",
    "print(emails) \n",
    "print(assuntos)"
   ]
  },
  {
   "cell_type": "code",
   "execution_count": 50,
   "id": "b204a2f9",
   "metadata": {},
   "outputs": [
    {
     "data": {
      "text/plain": [
       "Point(x=1072, y=125)"
      ]
     },
     "execution_count": 50,
     "metadata": {},
     "output_type": "execute_result"
    }
   ],
   "source": [
    "sleep(3)\n",
    "pg.position()"
   ]
  },
  {
   "cell_type": "code",
   "execution_count": 56,
   "id": "26e43a57",
   "metadata": {},
   "outputs": [],
   "source": []
  },
  {
   "cell_type": "code",
   "execution_count": null,
   "id": "cf0f1b5f",
   "metadata": {},
   "outputs": [],
   "source": [
    "\n",
    "                                                                                                                                "
   ]
  }
 ],
 "metadata": {
  "kernelspec": {
   "display_name": "Python 3 (ipykernel)",
   "language": "python",
   "name": "python3"
  },
  "language_info": {
   "codemirror_mode": {
    "name": "ipython",
    "version": 3
   },
   "file_extension": ".py",
   "mimetype": "text/x-python",
   "name": "python",
   "nbconvert_exporter": "python",
   "pygments_lexer": "ipython3",
   "version": "3.9.13"
  }
 },
 "nbformat": 4,
 "nbformat_minor": 5
}
